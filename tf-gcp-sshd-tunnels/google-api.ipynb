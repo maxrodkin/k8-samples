{
 "cells": [
  {
   "cell_type": "code",
   "execution_count": 2,
   "id": "a57ff14a",
   "metadata": {},
   "outputs": [],
   "source": [
    "#export GOOGLE_APPLICATION_CREDENTIALS=\"/Users/mrodkin/Documents/gcp/sa-search-datauser-npe.json\" ; jupyter notebook\n",
    "#export GOOGLE_APPLICATION_CREDENTIALS=\"/Users/mrodkin/Downloads/formal-cabinet-316308-85ef2ad7a746.json\" ; jupyter notebook"
   ]
  },
  {
   "cell_type": "code",
   "execution_count": 1,
   "id": "c536c2ba",
   "metadata": {},
   "outputs": [
    {
     "name": "stdout",
     "output_type": "stream",
     "text": [
      "/Users/mrodkin/Documents/gcp/sa-search-datauser-npe.json\n"
     ]
    }
   ],
   "source": [
    "import os\n",
    "print(os.environ['GOOGLE_APPLICATION_CREDENTIALS'])"
   ]
  },
  {
   "cell_type": "code",
   "execution_count": 5,
   "id": "983bbc23",
   "metadata": {},
   "outputs": [],
   "source": [
    "from google.cloud import storage\n",
    "\n",
    "# If you don't specify credentials when constructing the client, the\n",
    "# client library will look for credentials in the environment.\n",
    "storage_client = storage.Client()\n",
    "\n",
    "# Make an authenticated API request\n",
    "buckets = list(storage_client.list_buckets())\n",
    "#print(buckets)"
   ]
  },
  {
   "cell_type": "code",
   "execution_count": 1,
   "id": "f819c2cf",
   "metadata": {},
   "outputs": [
    {
     "name": "stdout",
     "output_type": "stream",
     "text": [
      "cin-dp-cluster\n",
      "erol-dev-dpcluster\n",
      "erol-dev-dpcluster2\n",
      "relevancy-dp-cluster\n",
      "search-devtest-cluster\n"
     ]
    }
   ],
   "source": [
    "from google.cloud import dataproc_v1\n",
    "from google.api_core import client_options\n",
    "def list_clusters(dataproc, project, region):\n",
    "    \"\"\"List the details of clusters in the region.\"\"\"\n",
    "    for cluster in dataproc.list_clusters(\n",
    "            project_id=project, region=region\n",
    "    ):\n",
    "        print(cluster.cluster_name)\n",
    "region = \"us-east4\"\n",
    "dataproc_cluster_client = dataproc_v1.ClusterControllerClient(\n",
    "    client_options=client_options.ClientOptions(\n",
    "        api_endpoint=f'{region}-dataproc.googleapis.com:443'))\n",
    "list_clusters(dataproc_cluster_client,\n",
    "              \"gcp-ushi-search-platform-npe\",\n",
    "              region)"
   ]
  },
  {
   "cell_type": "code",
   "execution_count": 7,
   "id": "14874fc1",
   "metadata": {},
   "outputs": [],
   "source": [
    "#!pip show google.cloud"
   ]
  },
  {
   "cell_type": "code",
   "execution_count": 6,
   "id": "3ae9789d",
   "metadata": {},
   "outputs": [],
   "source": [
    "#!pip install google-cloud-monitoring-dashboards"
   ]
  },
  {
   "cell_type": "code",
   "execution_count": 18,
   "id": "a21e5d62",
   "metadata": {},
   "outputs": [
    {
     "name": "stdout",
     "output_type": "stream",
     "text": [
      "{\r\n",
      "  \"error\": {\r\n",
      "    \"code\": 403,\r\n",
      "    \"message\": \"The caller does not have permission\",\r\n",
      "    \"status\": \"PERMISSION_DENIED\"\r\n",
      "  }\r\n",
      "}\r\n"
     ]
    }
   ],
   "source": [
    "!export GOOGLE_APPLICATION_CREDENTIALS=\"/Users/mrodkin/Documents/gcp/sa-search-datauser-npe.json\" ; \\\n",
    "export PROJECT_ID=\"gcp-ushi-search-platform-npe\" ; \\\n",
    "ACCESS_TOKEN=`gcloud auth print-access-token` ; \\\n",
    "curl -H \"Authorization: Bearer $ACCESS_TOKEN\" https://monitoring.googleapis.com/v1/projects/${PROJECT_ID}/dashboards"
   ]
  },
  {
   "cell_type": "code",
   "execution_count": null,
   "id": "f9f78b7c",
   "metadata": {},
   "outputs": [],
   "source": []
  }
 ],
 "metadata": {
  "kernelspec": {
   "display_name": "Python 3",
   "language": "python",
   "name": "python3"
  },
  "language_info": {
   "codemirror_mode": {
    "name": "ipython",
    "version": 3
   },
   "file_extension": ".py",
   "mimetype": "text/x-python",
   "name": "python",
   "nbconvert_exporter": "python",
   "pygments_lexer": "ipython3",
   "version": "3.9.5"
  }
 },
 "nbformat": 4,
 "nbformat_minor": 5
}
